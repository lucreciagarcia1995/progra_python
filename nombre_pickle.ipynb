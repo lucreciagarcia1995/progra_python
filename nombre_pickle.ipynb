{
 "cells": [
  {
   "cell_type": "code",
   "execution_count": 1,
   "id": "3d4e6d80",
   "metadata": {},
   "outputs": [
    {
     "name": "stdout",
     "output_type": "stream",
     "text": [
      "Objeto Original: Persona: Lucrecia Alejandra Garcia Muñoz\n",
      "Objeto Recuperado: Persona: Lucrecia Alejandra Garcia Muñoz\n"
     ]
    }
   ],
   "source": [
    "import pickle\n",
    "\n",
    "# Definir una clase simple para el ejemplo\n",
    "class Persona:\n",
    "    def __init__(self, nombre):\n",
    "        self.nombre = nombre\n",
    "\n",
    "    def __str__(self):\n",
    "        return f\"Persona: {self.nombre}\"\n",
    "\n",
    "# Crear una instancia de la clase Persona\n",
    "persona_original = Persona(nombre=\"Lucrecia Alejandra Garcia Muñoz\")\n",
    "\n",
    "# Serializar el objeto a un archivo binario pickle\n",
    "archivo_pickle = \"persona.pickle\"\n",
    "\n",
    "with open(archivo_pickle, 'wb') as archivo:\n",
    "    pickle.dump(persona_original, archivo)\n",
    "\n",
    "# Deserializar el objeto desde el archivo binario pickle\n",
    "with open(archivo_pickle, 'rb') as archivo:\n",
    "    persona_recuperada = pickle.load(archivo)\n",
    "\n",
    "# Imprimir el objeto original y el objeto recuperado\n",
    "print(\"Objeto Original:\", persona_original)\n",
    "print(\"Objeto Recuperado:\", persona_recuperada)"
   ]
  },
  {
   "cell_type": "code",
   "execution_count": null,
   "id": "78d58fca",
   "metadata": {},
   "outputs": [],
   "source": []
  }
 ],
 "metadata": {
  "kernelspec": {
   "display_name": "Python 3 (ipykernel)",
   "language": "python",
   "name": "python3"
  },
  "language_info": {
   "codemirror_mode": {
    "name": "ipython",
    "version": 3
   },
   "file_extension": ".py",
   "mimetype": "text/x-python",
   "name": "python",
   "nbconvert_exporter": "python",
   "pygments_lexer": "ipython3",
   "version": "3.11.5"
  }
 },
 "nbformat": 4,
 "nbformat_minor": 5
}
