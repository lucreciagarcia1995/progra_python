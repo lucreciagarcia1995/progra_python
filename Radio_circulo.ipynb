{
 "cells": [
  {
   "cell_type": "code",
   "execution_count": 2,
   "id": "a4282837",
   "metadata": {},
   "outputs": [
    {
     "name": "stdout",
     "output_type": "stream",
     "text": [
      "Dame el radio del circulo10\n",
      "Para un radio de: 10.0, el area del cierculo es: 314.15999999999997\n"
     ]
    }
   ],
   "source": [
    "PI = 3.1416\n",
    "_radio = input(\"Dame el radio del circulo\")\n",
    "\n",
    "radio = float(_radio)\n",
    "\n",
    "ac = PI * (radio*radio)\n",
    "\n",
    "print (f\"Para un radio de: {radio}, el area del circulo es: {ac}\")"
   ]
  },
  {
   "cell_type": "code",
   "execution_count": null,
   "id": "0e3ed7f2",
   "metadata": {},
   "outputs": [],
   "source": []
  }
 ],
 "metadata": {
  "kernelspec": {
   "display_name": "Python 3 (ipykernel)",
   "language": "python",
   "name": "python3"
  },
  "language_info": {
   "codemirror_mode": {
    "name": "ipython",
    "version": 3
   },
   "file_extension": ".py",
   "mimetype": "text/x-python",
   "name": "python",
   "nbconvert_exporter": "python",
   "pygments_lexer": "ipython3",
   "version": "3.11.5"
  }
 },
 "nbformat": 4,
 "nbformat_minor": 5
}
