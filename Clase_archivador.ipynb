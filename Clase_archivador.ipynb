{
 "cells": [
  {
   "cell_type": "code",
   "execution_count": 9,
   "id": "1405dcd3",
   "metadata": {},
   "outputs": [],
   "source": [
    "import pickle\n",
    "import os\n",
    "\n",
    "class archivador:\n",
    "    objeto=''\n",
    "    archivo ='sin_nombre.pickle'\n",
    "    respaldar=False\n",
    "    \n",
    " #Metodo constructor.\n",
    "\n",
    "    def __init__(self,objeto='',archivo='',respaldar=False):\n",
    "        self.objeto=objeto\n",
    "        self.archivo=archivo\n",
    "        self.respaldar=respaldar\n",
    "        \n",
    "    def guardar_archivo (self,\n",
    "                        objeto='',\n",
    "                        archivo='sin_nombre.pickle',\n",
    "                        respaldar=False):\n",
    "        try:\n",
    "            \n",
    "            #Se genera la version serializada del objeto.\n",
    "            with open(archivo,\"wb+\") as f:\n",
    "                pickle.dump(objeto,f)\n",
    "        except:\n",
    "                #Si algo sale mal, retorna False (no fue posible)\n",
    "                #y un str vacío.\n",
    "            return False\n",
    "            \n",
    "            #Si pudo hacer la operación, retorna True \n",
    "            return True\n",
    "        \n",
    "    def leer_archivo(self,archivo):\n",
    "        try:\n",
    "            with open(archivo,\"rb\") as f:\n",
    "                datos_recuperados=pickle.load(f)\n",
    "                \n",
    "                \n",
    "        except:\n",
    "            return False,''\n",
    "        \n",
    "        #Si todo salió bien, regresa verdadero, y los datos.\n",
    "\n",
    "        return True, datos_recuperados\n",
    "        \n",
    "                "
   ]
  },
  {
   "cell_type": "code",
   "execution_count": 13,
   "id": "e31e5538",
   "metadata": {},
   "outputs": [
    {
     "ename": "IndexError",
     "evalue": "string index out of range",
     "output_type": "error",
     "traceback": [
      "\u001b[0;31m---------------------------------------------------------------------------\u001b[0m",
      "\u001b[0;31mIndexError\u001b[0m                                Traceback (most recent call last)",
      "Cell \u001b[0;32mIn[13], line 11\u001b[0m\n\u001b[1;32m      8\u001b[0m resultado, sin_modificar\u001b[38;5;241m=\u001b[39mtrabajo\u001b[38;5;241m.\u001b[39mleer_archivo(\u001b[38;5;124m'\u001b[39m\u001b[38;5;124mrepositorio.pickle\u001b[39m\u001b[38;5;124m'\u001b[39m)\n\u001b[1;32m     10\u001b[0m \u001b[38;5;66;03m#Modifivo datos.\u001b[39;00m\n\u001b[0;32m---> 11\u001b[0m repositorio[\u001b[38;5;241m0\u001b[39m][\u001b[38;5;241m3\u001b[39m]\u001b[38;5;241m=\u001b[39m\u001b[38;5;124m\"\u001b[39m\u001b[38;5;124mEvento 3\u001b[39m\u001b[38;5;124m\"\u001b[39m\n\u001b[1;32m     13\u001b[0m \u001b[38;5;28mprint\u001b[39m(repositorio)\n\u001b[1;32m     14\u001b[0m \u001b[38;5;28mprint\u001b[39m(sin_modificar)\n",
      "\u001b[0;31mIndexError\u001b[0m: string index out of range"
     ]
    }
   ],
   "source": [
    "#Generar una instancia de la clase\n",
    "trabajo=archivador()\n",
    "\n",
    "\n",
    "\n",
    "#Se lee el archivo.\n",
    "resultado, repositorio=trabajo.leer_archivo('repositorio.pickle')\n",
    "resultado, sin_modificar=trabajo.leer_archivo('repositorio.pickle')\n",
    "\n",
    "#Modifivo datos.\n",
    "repositorio[0][3]=\"Evento 3\"\n",
    "\n",
    "print(repositorio)\n",
    "print(sin_modificar)\n",
    "\n"
   ]
  },
  {
   "cell_type": "code",
   "execution_count": 14,
   "id": "2e533fb5",
   "metadata": {},
   "outputs": [],
   "source": [
    "# Ejecuta el método guardar_archivo()\n",
    "\n",
    "trabajo.guardar_archivo(repositorio,'repositorio.pickle', False)"
   ]
  },
  {
   "cell_type": "code",
   "execution_count": null,
   "id": "6e5c8179",
   "metadata": {},
   "outputs": [],
   "source": []
  },
  {
   "cell_type": "code",
   "execution_count": null,
   "id": "f1cd3624",
   "metadata": {},
   "outputs": [],
   "source": []
  }
 ],
 "metadata": {
  "kernelspec": {
   "display_name": "Python 3 (ipykernel)",
   "language": "python",
   "name": "python3"
  },
  "language_info": {
   "codemirror_mode": {
    "name": "ipython",
    "version": 3
   },
   "file_extension": ".py",
   "mimetype": "text/x-python",
   "name": "python",
   "nbconvert_exporter": "python",
   "pygments_lexer": "ipython3",
   "version": "3.11.5"
  }
 },
 "nbformat": 4,
 "nbformat_minor": 5
}
