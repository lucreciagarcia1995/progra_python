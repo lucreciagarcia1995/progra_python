{
 "cells": [
  {
   "cell_type": "code",
   "execution_count": 1,
   "id": "120c004b",
   "metadata": {},
   "outputs": [
    {
     "name": "stdout",
     "output_type": "stream",
     "text": [
      "Dame el precio de la gasolina10\n",
      "Dame el rendimiento del coche34\n",
      "El recorrido será: 2040.00 km en 40 horas y 47.99999999999983 minutos\n"
     ]
    }
   ],
   "source": [
    "dinero = 600.00\n",
    "v= 50.00\n",
    "_precio = input(\"Dame el precio de la gasolina\")\n",
    "precio = float(_precio)\n",
    "litros = dinero/precio\n",
    "_rendimiento = input(\"Dame el rendimiento del coche\")\n",
    "rendimiento = float(_rendimiento)\n",
    "d = rendimiento * litros\n",
    "t = d/v\n",
    "hh = int(t)\n",
    "mm = (t - hh) * 60\n",
    "\n",
    "print(f\"El recorrido será: {d:.2f} km en {hh} horas y {mm} minutos\")"
   ]
  },
  {
   "cell_type": "code",
   "execution_count": null,
   "id": "b0365b0c",
   "metadata": {},
   "outputs": [],
   "source": []
  }
 ],
 "metadata": {
  "kernelspec": {
   "display_name": "Python 3 (ipykernel)",
   "language": "python",
   "name": "python3"
  },
  "language_info": {
   "codemirror_mode": {
    "name": "ipython",
    "version": 3
   },
   "file_extension": ".py",
   "mimetype": "text/x-python",
   "name": "python",
   "nbconvert_exporter": "python",
   "pygments_lexer": "ipython3",
   "version": "3.11.5"
  }
 },
 "nbformat": 4,
 "nbformat_minor": 5
}
