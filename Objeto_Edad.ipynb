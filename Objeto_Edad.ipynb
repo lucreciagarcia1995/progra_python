{
 "cells": [
  {
   "cell_type": "code",
   "execution_count": 2,
   "id": "f29bbd2f",
   "metadata": {},
   "outputs": [
    {
     "name": "stdout",
     "output_type": "stream",
     "text": [
      " El Objeto Original: Objeto: Edad original, Edad: 28\n",
      " El Objeto Recuperado: Objeto: Edad original, Edad: 28\n"
     ]
    }
   ],
   "source": [
    "import pickle\n",
    "\n",
    "# Definir una clase simple \n",
    "class Objeto:\n",
    "    def __init__(self, nombre, edad):\n",
    "        self.nombre = nombre\n",
    "        self.edad = edad\n",
    "\n",
    "    def __str__(self):\n",
    "        return f\"Objeto: {self.nombre}, Edad: {self.edad}\"\n",
    "\n",
    "# Crear una instancia de la clase EjemploObjeto\n",
    "objeto_original = Objeto(nombre=\"Edad original\", edad=28)\n",
    "\n",
    "# Serializar el objeto a un archivo binario pickle\n",
    "archivo_pickle = \"ejemplo.pickle\"\n",
    "\n",
    "with open(archivo_pickle, 'wb') as archivo:\n",
    "    pickle.dump(objeto_original, archivo)\n",
    "\n",
    "# Deserializar el objeto desde el archivo binario pickle\n",
    "with open(archivo_pickle, 'rb') as archivo:\n",
    "    objeto_recuperado = pickle.load(archivo)\n",
    "\n",
    "# Imprimir el objeto original y el objeto recuperado\n",
    "print(\" El Objeto Original:\", objeto_original)\n",
    "print(\" El Objeto Recuperado:\", objeto_recuperado)"
   ]
  },
  {
   "cell_type": "code",
   "execution_count": null,
   "id": "b90ae194",
   "metadata": {},
   "outputs": [],
   "source": []
  }
 ],
 "metadata": {
  "kernelspec": {
   "display_name": "Python 3 (ipykernel)",
   "language": "python",
   "name": "python3"
  },
  "language_info": {
   "codemirror_mode": {
    "name": "ipython",
    "version": 3
   },
   "file_extension": ".py",
   "mimetype": "text/x-python",
   "name": "python",
   "nbconvert_exporter": "python",
   "pygments_lexer": "ipython3",
   "version": "3.11.5"
  }
 },
 "nbformat": 4,
 "nbformat_minor": 5
}
