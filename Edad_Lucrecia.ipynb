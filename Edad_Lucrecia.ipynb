{
 "cells": [
  {
   "cell_type": "code",
   "execution_count": 1,
   "id": "27689247",
   "metadata": {},
   "outputs": [
    {
     "name": "stdout",
     "output_type": "stream",
     "text": [
      "Hola, soy Lucrecia y tengo 28 años.\n",
      "Edad en meses: 336\n"
     ]
    }
   ],
   "source": [
    "# Definir la clase Persona\n",
    "class Persona:\n",
    "    # Método constructor, inicializa la clase con nombre y edad\n",
    "    def __init__(self, nombre, edad):\n",
    "        self.nombre = nombre\n",
    "        self.edad = edad\n",
    "\n",
    "    # Método para saludar\n",
    "    def saludar(self):\n",
    "        return f\"Hola, soy {self.nombre} y tengo {self.edad} años.\"\n",
    "\n",
    "    # Propiedad para obtener la edad en meses\n",
    "    @property\n",
    "    def edad_en_meses(self):\n",
    "        return self.edad * 12\n",
    "\n",
    "# Crear una instancia de la clase Persona\n",
    "persona1 = Persona(nombre=\"Lucrecia\", edad=28)\n",
    "\n",
    "# Llamar al método saludar\n",
    "saludo = persona1.saludar()\n",
    "print(saludo)\n",
    "\n",
    "# Obtener la edad en meses utilizando la propiedad\n",
    "edad_meses = persona1.edad_en_meses\n",
    "print(f\"Edad en meses: {edad_meses}\")"
   ]
  },
  {
   "cell_type": "code",
   "execution_count": null,
   "id": "6886a053",
   "metadata": {},
   "outputs": [],
   "source": []
  }
 ],
 "metadata": {
  "kernelspec": {
   "display_name": "Python 3 (ipykernel)",
   "language": "python",
   "name": "python3"
  },
  "language_info": {
   "codemirror_mode": {
    "name": "ipython",
    "version": 3
   },
   "file_extension": ".py",
   "mimetype": "text/x-python",
   "name": "python",
   "nbconvert_exporter": "python",
   "pygments_lexer": "ipython3",
   "version": "3.11.5"
  }
 },
 "nbformat": 4,
 "nbformat_minor": 5
}
